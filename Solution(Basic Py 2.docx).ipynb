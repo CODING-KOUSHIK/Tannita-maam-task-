{
 "cells": [
  {
   "cell_type": "markdown",
   "id": "63c8783d",
   "metadata": {},
   "source": [
    "# 1.\tFactorial Calculation\n",
    "Question: Can you create a Python program to calculate the factorial of a given number?\n"
   ]
  },
  {
   "cell_type": "code",
   "execution_count": 4,
   "id": "1de55212",
   "metadata": {},
   "outputs": [],
   "source": [
    "def fact(x):\n",
    "    ans=1\n",
    "    for i in range(1,x+1):\n",
    "        ans=ans*i\n",
    "    print(f\"fact of {x} = {ans}\")"
   ]
  },
  {
   "cell_type": "code",
   "execution_count": 5,
   "id": "3d2287f5",
   "metadata": {},
   "outputs": [
    {
     "name": "stdout",
     "output_type": "stream",
     "text": [
      "fact of 5 = 120\n"
     ]
    }
   ],
   "source": [
    "fact(5)"
   ]
  },
  {
   "cell_type": "code",
   "execution_count": null,
   "id": "c986e17e",
   "metadata": {},
   "outputs": [],
   "source": []
  },
  {
   "cell_type": "markdown",
   "id": "492ea9ac",
   "metadata": {},
   "source": [
    "# 2.\tFizzBuzz\n",
    "Question: Write a Python program that prints numbers from 1 to 15. For multiples of 3, print \"Fizz\" instead of the number, for multiples of 5 print \"Buzz\", and for numbers which are multiples of both 3 and 5, print \"FizzBuzz\".\n"
   ]
  },
  {
   "cell_type": "code",
   "execution_count": 6,
   "id": "f7f58afb",
   "metadata": {},
   "outputs": [
    {
     "name": "stdout",
     "output_type": "stream",
     "text": [
      "3= Fizz\n",
      "5= Buzz\n",
      "6= Fizz\n",
      "9= Fizz\n",
      "10= Buzz\n",
      "12= Fizz\n",
      "15= FizzBuzz\n"
     ]
    }
   ],
   "source": [
    "for i in range(1,16):\n",
    "    if i%3==0 and i%5==0:\n",
    "        print(f'{i}= FizzBuzz')\n",
    "        \n",
    "    elif i%3 ==0:\n",
    "        print(f'{i}= Fizz')\n",
    "        \n",
    "    elif i%5==0:\n",
    "        print(f'{i}= Buzz')"
   ]
  },
  {
   "cell_type": "code",
   "execution_count": null,
   "id": "da11bef9",
   "metadata": {},
   "outputs": [],
   "source": []
  },
  {
   "cell_type": "markdown",
   "id": "d641e853",
   "metadata": {},
   "source": [
    "# 3.\tFibonacci Series\n",
    "Question: Create a Python program to generate the Fibonacci series of a specified length.\n"
   ]
  },
  {
   "cell_type": "code",
   "execution_count": 7,
   "id": "c7d4e636",
   "metadata": {},
   "outputs": [],
   "source": [
    "def fibo(n):\n",
    "    a=0\n",
    "    b=1\n",
    "    for i in range(n):\n",
    "        sum=a+b\n",
    "        print(sum)\n",
    "        a=b\n",
    "        b=sum"
   ]
  },
  {
   "cell_type": "code",
   "execution_count": 8,
   "id": "3949bae3",
   "metadata": {},
   "outputs": [
    {
     "name": "stdout",
     "output_type": "stream",
     "text": [
      "1\n",
      "2\n",
      "3\n",
      "5\n",
      "8\n",
      "13\n",
      "21\n",
      "34\n",
      "55\n"
     ]
    }
   ],
   "source": [
    "fibo(9)"
   ]
  },
  {
   "cell_type": "markdown",
   "id": "8028e61c",
   "metadata": {},
   "source": [
    "# 4.\tCheck Prime Number\n",
    "Question: Write a Python program to determine if a given number is a prime number or not.\n"
   ]
  },
  {
   "cell_type": "code",
   "execution_count": 33,
   "id": "e1a448af",
   "metadata": {},
   "outputs": [],
   "source": [
    "def is_prime(n):\n",
    "    m=True\n",
    "    for i in range(2,n):\n",
    "        if n%i==0:\n",
    "            m=False\n",
    "            break\n",
    "\n",
    "    if m:\n",
    "        print(f\"{n} is prime\")\n",
    "        \n",
    "    else:\n",
    "        print(f\"{n} is not a prime\")"
   ]
  },
  {
   "cell_type": "code",
   "execution_count": 34,
   "id": "84e0b8c8",
   "metadata": {},
   "outputs": [
    {
     "name": "stdout",
     "output_type": "stream",
     "text": [
      "91 is not a prime\n"
     ]
    }
   ],
   "source": [
    "is_prime(91)"
   ]
  },
  {
   "cell_type": "code",
   "execution_count": null,
   "id": "692dee3c",
   "metadata": {},
   "outputs": [],
   "source": []
  },
  {
   "cell_type": "markdown",
   "id": "77c39554",
   "metadata": {},
   "source": [
    "# 5.\tBasic Input/Output\n",
    "Question: Write a Python program that takes a user's name as input and prints a greeting message along with the entered name.\n"
   ]
  },
  {
   "cell_type": "code",
   "execution_count": 36,
   "id": "b3cb18f1",
   "metadata": {},
   "outputs": [
    {
     "name": "stdout",
     "output_type": "stream",
     "text": [
      "Please input your name: KOUSHIK\n",
      "Welcome KOUSHIK!\n"
     ]
    }
   ],
   "source": [
    "name=input(\"Please input your name: \")\n",
    "print(f\"Welcome {name}!\")"
   ]
  },
  {
   "cell_type": "code",
   "execution_count": null,
   "id": "bdf0b37c",
   "metadata": {},
   "outputs": [],
   "source": []
  },
  {
   "cell_type": "markdown",
   "id": "9a6e853a",
   "metadata": {},
   "source": [
    "# 6.\tArithmetic Operations\n",
    "Question: Create a Python program that asks the user to enter two numbers and performs all arithmetic operations (addition, subtraction, multiplication, division, and modulus) on them.\n"
   ]
  },
  {
   "cell_type": "code",
   "execution_count": 40,
   "id": "4b70fd56",
   "metadata": {},
   "outputs": [
    {
     "name": "stdout",
     "output_type": "stream",
     "text": [
      "Enter a number15\n",
      "Enter 2nd number20\n",
      "addition=35.0\n",
      "Subtraction=-5.0\n",
      "Multiplication=300.0\n",
      "division=0.75\n",
      "modulus=5.0\n"
     ]
    }
   ],
   "source": [
    "x=float(input(\"Enter a number\"))\n",
    "y=float(input(\"Enter 2nd number\"))\n",
    "\n",
    "print(f\"addition={x+y}\")\n",
    "print(f'Subtraction={x-y}')\n",
    "print(f'Multiplication={x*y}')\n",
    "print(f'division={x/y}')\n",
    "print(f'modulus={abs(x-y)}')"
   ]
  },
  {
   "cell_type": "code",
   "execution_count": null,
   "id": "fbbf74fb",
   "metadata": {},
   "outputs": [],
   "source": []
  },
  {
   "cell_type": "markdown",
   "id": "572c57c4",
   "metadata": {},
   "source": [
    "# 7.\tConditional Statements\n",
    "Question: Write a Python program to check whether a given number is positive, negative, or zero.\n"
   ]
  },
  {
   "cell_type": "code",
   "execution_count": 41,
   "id": "b62d1742",
   "metadata": {},
   "outputs": [],
   "source": [
    "def check(n):\n",
    "    if n==0:\n",
    "        print(\"zero\")\n",
    "        \n",
    "    elif n>0:\n",
    "        print(\"Positive\")\n",
    "        \n",
    "    else:\n",
    "        print(\"Negative\")"
   ]
  },
  {
   "cell_type": "code",
   "execution_count": 42,
   "id": "26126ba1",
   "metadata": {},
   "outputs": [
    {
     "name": "stdout",
     "output_type": "stream",
     "text": [
      "Positive\n"
     ]
    }
   ],
   "source": [
    "check(5)"
   ]
  },
  {
   "cell_type": "code",
   "execution_count": null,
   "id": "d10fa39f",
   "metadata": {},
   "outputs": [],
   "source": []
  },
  {
   "cell_type": "markdown",
   "id": "229c5ed5",
   "metadata": {},
   "source": [
    "# 8.\tLoops\n",
    "Question: Create a Python program to print the multiplication table of a given number using a loop.\n"
   ]
  },
  {
   "cell_type": "code",
   "execution_count": 43,
   "id": "f0ce4fd5",
   "metadata": {},
   "outputs": [
    {
     "name": "stdout",
     "output_type": "stream",
     "text": [
      "5 * 1 = 5\n",
      "5 * 2 = 10\n",
      "5 * 3 = 15\n",
      "5 * 4 = 20\n",
      "5 * 5 = 25\n",
      "5 * 6 = 30\n",
      "5 * 7 = 35\n",
      "5 * 8 = 40\n",
      "5 * 9 = 45\n",
      "5 * 10 = 50\n"
     ]
    }
   ],
   "source": [
    "n=5\n",
    "for i in range(1,11):\n",
    "    print(f'{n} * {i} = {n*i}')"
   ]
  },
  {
   "cell_type": "code",
   "execution_count": null,
   "id": "5c7297ca",
   "metadata": {},
   "outputs": [],
   "source": []
  },
  {
   "cell_type": "markdown",
   "id": "4536cbf5",
   "metadata": {},
   "source": [
    "# 9.\tFunctions\n",
    "Question: Define a Python function that takes two parameters as input and returns the sum of those numbers.\n"
   ]
  },
  {
   "cell_type": "code",
   "execution_count": 45,
   "id": "65776577",
   "metadata": {},
   "outputs": [],
   "source": [
    "def sum(x,y):\n",
    "    print(\"Sum of\", x ,\"and \",y, \" is \", x+y)"
   ]
  },
  {
   "cell_type": "code",
   "execution_count": 46,
   "id": "71095636",
   "metadata": {},
   "outputs": [
    {
     "name": "stdout",
     "output_type": "stream",
     "text": [
      "Sum of 5 and  6  is  11\n"
     ]
    }
   ],
   "source": [
    "sum(5,6)"
   ]
  },
  {
   "cell_type": "code",
   "execution_count": null,
   "id": "539956a7",
   "metadata": {},
   "outputs": [],
   "source": []
  },
  {
   "cell_type": "markdown",
   "id": "0acb2a16",
   "metadata": {},
   "source": [
    "# 10.\tLists and Iterations\n",
    "Question: Write a Python program to find the maximum and minimum elements in a list of numbers.\n"
   ]
  },
  {
   "cell_type": "code",
   "execution_count": 47,
   "id": "fa2826bc",
   "metadata": {},
   "outputs": [
    {
     "name": "stdout",
     "output_type": "stream",
     "text": [
      "max =  85\n",
      "Min=  1\n"
     ]
    }
   ],
   "source": [
    "list=[56,45,2,13,6,85,45,63,1,45]\n",
    "print(\"max = \", max(list))\n",
    "print(\"Min= \", min(list))"
   ]
  },
  {
   "cell_type": "code",
   "execution_count": null,
   "id": "e7c3289a",
   "metadata": {},
   "outputs": [],
   "source": []
  },
  {
   "cell_type": "markdown",
   "id": "362ce0c1",
   "metadata": {},
   "source": [
    "# 11.\tFile Handling\n",
    "Question: Create a Python program to read content from a text file, count the occurrences of each word, and display the word count.\n"
   ]
  },
  {
   "cell_type": "code",
   "execution_count": null,
   "id": "0a7e0afe",
   "metadata": {},
   "outputs": [],
   "source": []
  },
  {
   "cell_type": "markdown",
   "id": "26d7383b",
   "metadata": {},
   "source": [
    "# 12.\tString Manipulation\n",
    "Question: Write a Python program that accepts a string from the user and counts the number of uppercase and lowercase letters.\n",
    "\n"
   ]
  },
  {
   "cell_type": "code",
   "execution_count": 51,
   "id": "1ca349d6",
   "metadata": {},
   "outputs": [
    {
     "name": "stdout",
     "output_type": "stream",
     "text": [
      "Enter a string with lower and upper casekoushik\n",
      "Upper case:  7\n",
      "Lower case:  0\n"
     ]
    }
   ],
   "source": [
    "x='abcdefghijklmnopqrstuvwxyz'\n",
    "y=input(\"Enter a string with lower and upper case: \")\n",
    "m=0\n",
    "n=0\n",
    "for i in y:\n",
    "\n",
    "    if i in x:\n",
    "        m=m+1\n",
    "        \n",
    "    elif i in x.upper():\n",
    "        n=n+1\n",
    "        \n",
    "    else:\n",
    "        pass\n",
    "    \n",
    "print(\"Upper case: \", m)\n",
    "print(\"Lower case: \", n)"
   ]
  },
  {
   "cell_type": "code",
   "execution_count": null,
   "id": "2689bcf8",
   "metadata": {},
   "outputs": [],
   "source": []
  },
  {
   "cell_type": "markdown",
   "id": "7aeedc51",
   "metadata": {},
   "source": [
    "# 13.\tRecursion\n",
    "Question: Define a recursive Python function to calculate the factorial of a number.\n"
   ]
  },
  {
   "cell_type": "code",
   "execution_count": 52,
   "id": "2e385c7d",
   "metadata": {},
   "outputs": [],
   "source": [
    "def fact(n):\n",
    "    if n==1 or n==0:\n",
    "        return 1\n",
    "    else:\n",
    "        return n*fact(n-1)"
   ]
  },
  {
   "cell_type": "code",
   "execution_count": 53,
   "id": "59736051",
   "metadata": {},
   "outputs": [
    {
     "data": {
      "text/plain": [
       "120"
      ]
     },
     "execution_count": 53,
     "metadata": {},
     "output_type": "execute_result"
    }
   ],
   "source": [
    "fact(5)"
   ]
  },
  {
   "cell_type": "code",
   "execution_count": null,
   "id": "a84aca8b",
   "metadata": {},
   "outputs": [],
   "source": []
  },
  {
   "cell_type": "markdown",
   "id": "9cac43f7",
   "metadata": {},
   "source": [
    "# 14.\tError Handling\n",
    "Question: Write a Python program that handles a ValueError exception when converting a user-input string to an integer and prints an error message if the input is not a valid number.\n"
   ]
  },
  {
   "cell_type": "code",
   "execution_count": null,
   "id": "cef7f43f",
   "metadata": {},
   "outputs": [],
   "source": []
  },
  {
   "cell_type": "markdown",
   "id": "b7b42960",
   "metadata": {},
   "source": [
    "# 15.\tMatrix Operations\n",
    "Question: Develop a Python program to perform matrix addition and multiplication.\n"
   ]
  },
  {
   "cell_type": "code",
   "execution_count": null,
   "id": "9913d2f3",
   "metadata": {},
   "outputs": [],
   "source": []
  },
  {
   "cell_type": "code",
   "execution_count": null,
   "id": "3eec3627",
   "metadata": {},
   "outputs": [],
   "source": []
  },
  {
   "cell_type": "code",
   "execution_count": null,
   "id": "02b5e773",
   "metadata": {},
   "outputs": [],
   "source": []
  },
  {
   "cell_type": "code",
   "execution_count": null,
   "id": "26bfc99e",
   "metadata": {},
   "outputs": [],
   "source": []
  },
  {
   "cell_type": "code",
   "execution_count": null,
   "id": "af216859",
   "metadata": {},
   "outputs": [],
   "source": []
  },
  {
   "cell_type": "code",
   "execution_count": null,
   "id": "6398390b",
   "metadata": {},
   "outputs": [],
   "source": []
  },
  {
   "cell_type": "code",
   "execution_count": null,
   "id": "718cb9af",
   "metadata": {},
   "outputs": [],
   "source": []
  },
  {
   "cell_type": "code",
   "execution_count": null,
   "id": "974f7826",
   "metadata": {},
   "outputs": [],
   "source": []
  },
  {
   "cell_type": "code",
   "execution_count": null,
   "id": "71202ce8",
   "metadata": {},
   "outputs": [],
   "source": []
  }
 ],
 "metadata": {
  "kernelspec": {
   "display_name": "Python 3 (ipykernel)",
   "language": "python",
   "name": "python3"
  },
  "language_info": {
   "codemirror_mode": {
    "name": "ipython",
    "version": 3
   },
   "file_extension": ".py",
   "mimetype": "text/x-python",
   "name": "python",
   "nbconvert_exporter": "python",
   "pygments_lexer": "ipython3",
   "version": "3.11.4"
  }
 },
 "nbformat": 4,
 "nbformat_minor": 5
}
